{
 "cells": [
  {
   "cell_type": "code",
   "execution_count": 1,
   "id": "918e6717",
   "metadata": {},
   "outputs": [],
   "source": [
    "rules={\n",
    "    ('S','NP','VP'):1,\n",
    "    ('PP','P','NP'):1,\n",
    "    ('VP','V','NP'):0.7,\n",
    "    ('VP','VP','PP'):0.3,\n",
    "    ('P','with'):1,\n",
    "    ('V','saw'):1,\n",
    "    ('NP','NP','PP'):0.4,\n",
    "    ('NP','astronomers'):0.1,\n",
    "    ('NP','ears'):0.18,\n",
    "    ('NP','saw'):0.04,\n",
    "    ('NP','stars'):0.18,\n",
    "    ('NP','telescopoes'):0.1,\n",
    "}"
   ]
  },
  {
   "cell_type": "code",
   "execution_count": 2,
   "id": "33251cf7",
   "metadata": {},
   "outputs": [
    {
     "name": "stdout",
     "output_type": "stream",
     "text": [
      "[[{'NP': 0.1}, {}, {}, {}, {}], [{}, {'V': 1, 'NP': 0.04}, {}, {}, {}], [{}, {}, {'NP': 0.18}, {}, {}], [{}, {}, {}, {'P': 1}, {}], [{}, {}, {}, {}, {'NP': 0.18}]]\n"
     ]
    }
   ],
   "source": [
    "sentence='astronomers saw stars with ears'\n",
    "from nltk.tokenize import word_tokenize\n",
    "words=word_tokenize(sentence)\n",
    "n=len(words)\n",
    "table=[[{},{},{},{},{}],\n",
    "       [{},{},{},{},{}],\n",
    "       [{},{},{},{},{}],\n",
    "       [{},{},{},{},{}],\n",
    "       [{},{},{},{},{}]]\n",
    "for i in range(n):\n",
    "    for r in rules.keys():\n",
    "        if words[i] in r:\n",
    "            table[i][i][r[0]]=rules[r]\n",
    "print(table)"
   ]
  },
  {
   "cell_type": "code",
   "execution_count": 3,
   "id": "f068bffc",
   "metadata": {},
   "outputs": [
    {
     "name": "stdout",
     "output_type": "stream",
     "text": [
      "[[{'NP': 0.1}, {}, {'S': 0.0126}, {}, {'S': 0.0009071999999999999}], [{}, {'V': 1, 'NP': 0.04}, {'VP': 0.126}, {}, {'VP': 0.009071999999999998}], [{}, {}, {'NP': 0.18}, {}, {'NP': 0.01296}], [{}, {}, {}, {'P': 1}, {'PP': 0.18}], [{}, {}, {}, {}, {'NP': 0.18}]]\n"
     ]
    }
   ],
   "source": [
    "maxi=0\n",
    "for i in range(n):\n",
    "    p=0\n",
    "    q=p+i+1\n",
    "    while p<n and q<n:\n",
    "        for r in range(p,q):\n",
    "            dj=table[p][r]\n",
    "            dk=table[r+1][q]\n",
    "            for N in rules.keys():\n",
    "                if N[-2] in dj.keys() and N[-1] in dk.keys():\n",
    "                    x=rules[N]*dj[N[-2]]*dk[N[-1]]\n",
    "                    if x>maxi:\n",
    "                        maxi=x\n",
    "                        table[p][q][N[0]]=maxi\n",
    "        maxi=0\n",
    "        p+=1\n",
    "        q=p+i+1\n",
    "print(table)"
   ]
  },
  {
   "cell_type": "code",
   "execution_count": 4,
   "id": "5cf5a3d6",
   "metadata": {},
   "outputs": [],
   "source": [
    "from nltk import PCFG, ViterbiParser\n",
    "grammar =  PCFG.fromstring(\"\"\"\n",
    "S -> NP VP [1.0]\n",
    "PP -> P NP [1.0]\n",
    "VP -> V NP [0.7] | VP PP [0.3]\n",
    "P -> 'with' [1.0]\n",
    "V -> 'saw' [1.0]\n",
    "NP -> NP PP [0.4] | 'astronomers' [0.1] | 'ears' [0.18] | 'saw' [0.04] | 'stars' [0.18] | 'telescopes' [0.1]                           \n",
    "\"\"\")"
   ]
  },
  {
   "cell_type": "code",
   "execution_count": 5,
   "id": "a9f58b75",
   "metadata": {},
   "outputs": [],
   "source": [
    "parser = ViterbiParser(grammar)\n",
    "\n",
    "# Parse a sentence\n",
    "sentence = \"astronomers saw stars with ears\"\n",
    "tokens = sentence.split()"
   ]
  },
  {
   "cell_type": "code",
   "execution_count": 6,
   "id": "f96b8f24",
   "metadata": {},
   "outputs": [
    {
     "name": "stdout",
     "output_type": "stream",
     "text": [
      "(S\n",
      "  (NP astronomers)\n",
      "  (VP (V saw) (NP (NP stars) (PP (P with) (NP ears))))) (p=0.0009072)\n"
     ]
    }
   ],
   "source": [
    "for tree in parser.parse(tokens):\n",
    "    print(tree)"
   ]
  },
  {
   "cell_type": "code",
   "execution_count": null,
   "id": "640498c9",
   "metadata": {},
   "outputs": [],
   "source": []
  }
 ],
 "metadata": {
  "kernelspec": {
   "display_name": "Python 3 (ipykernel)",
   "language": "python",
   "name": "python3"
  },
  "language_info": {
   "codemirror_mode": {
    "name": "ipython",
    "version": 3
   },
   "file_extension": ".py",
   "mimetype": "text/x-python",
   "name": "python",
   "nbconvert_exporter": "python",
   "pygments_lexer": "ipython3",
   "version": "3.11.5"
  }
 },
 "nbformat": 4,
 "nbformat_minor": 5
}
