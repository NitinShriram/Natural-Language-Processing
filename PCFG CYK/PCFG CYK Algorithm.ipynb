{
 "cells": [
  {
   "cell_type": "code",
   "execution_count": 18,
   "id": "32d46cc5",
   "metadata": {},
   "outputs": [],
   "source": [
    "rules={\n",
    "    ('S','NP','VP'):1,\n",
    "    ('PP','P','NP'):1,\n",
    "    ('VP','V','NP'):0.7,\n",
    "    ('VP','VP','PP'):0.3,\n",
    "    ('P','with'):1,\n",
    "    ('V','saw'):1,\n",
    "    ('NP','NP','PP'):0.4,\n",
    "    ('NP','astronomers'):0.1,\n",
    "    ('NP','ears'):0.18,\n",
    "    ('NP','saw'):0.04,\n",
    "    ('NP','stars'):0.18,\n",
    "    ('NP','telescopoes'):0.1,\n",
    "}"
   ]
  },
  {
   "cell_type": "code",
   "execution_count": 19,
   "id": "9336cf48",
   "metadata": {},
   "outputs": [],
   "source": [
    "from nltk import word_tokenize\n",
    "sentence = 'astronomers saw stars with ears'\n",
    "words = word_tokenize(sentence)\n",
    "n = len(words)"
   ]
  },
  {
   "cell_type": "code",
   "execution_count": 26,
   "id": "75322743",
   "metadata": {},
   "outputs": [],
   "source": [
    "table = [\n",
    "    [{},{},{},{},{}],\n",
    "    [{},{},{},{},{}],\n",
    "    [{},{},{},{},{}],\n",
    "    [{},{},{},{},{}],\n",
    "    [{},{},{},{},{}],\n",
    "]"
   ]
  },
  {
   "cell_type": "code",
   "execution_count": 27,
   "id": "a02d16df",
   "metadata": {},
   "outputs": [
    {
     "data": {
      "text/plain": [
       "[[{'NP': 0.1}, {}, {}, {}, {}],\n",
       " [{}, {'V': 1, 'NP': 0.04}, {}, {}, {}],\n",
       " [{}, {}, {'NP': 0.18}, {}, {}],\n",
       " [{}, {}, {}, {'P': 1}, {}],\n",
       " [{}, {}, {}, {}, {'NP': 0.18}]]"
      ]
     },
     "execution_count": 27,
     "metadata": {},
     "output_type": "execute_result"
    }
   ],
   "source": [
    "for i in range(n):\n",
    "    for r in rules.keys():\n",
    "        if words[i] in r:\n",
    "            table[i][i][r[0]] = rules[r]\n",
    "            \n",
    "table"
   ]
  },
  {
   "cell_type": "code",
   "execution_count": 28,
   "id": "8db28450",
   "metadata": {},
   "outputs": [
    {
     "data": {
      "text/plain": [
       "[[{'NP': 0.1}, {}, {'S': 0.0126}, {}, {'S': 0.0015875999999999998}],\n",
       " [{}, {'V': 1, 'NP': 0.04}, {'VP': 0.126}, {}, {'VP': 0.015875999999999998}],\n",
       " [{}, {}, {'NP': 0.18}, {}, {'NP': 0.01296}],\n",
       " [{}, {}, {}, {'P': 1}, {'PP': 0.18}],\n",
       " [{}, {}, {}, {}, {'NP': 0.18}]]"
      ]
     },
     "execution_count": 28,
     "metadata": {},
     "output_type": "execute_result"
    }
   ],
   "source": [
    "for i in range(n):\n",
    "    p=0\n",
    "    q=p+i+1\n",
    "    while p<n and q<n:\n",
    "        for r in range(p,q):\n",
    "            dj = table[p][r]\n",
    "            dk = table[r+1][q]\n",
    "            for N in rules.keys():\n",
    "                if N[-2] in dj.keys() and N[-1] in dk.keys():\n",
    "                    val = rules[N]*dj[N[-2]]*dk[N[-1]]\n",
    "                    if N[0] in table[p][q]:\n",
    "                        table[p][q][N[0]] +=val\n",
    "                    else:\n",
    "                        table[p][q][N[0]] = val\n",
    "        p+=1\n",
    "        q = p+i+1\n",
    "table"
   ]
  },
  {
   "cell_type": "code",
   "execution_count": 32,
   "id": "23420cfc",
   "metadata": {},
   "outputs": [
    {
     "name": "stdout",
     "output_type": "stream",
     "text": [
      "(S\n",
      "  (NP astronomers)\n",
      "  (VP (V saw) (NP (NP stars) (PP (P with) (NP ears))))) (p=0.0009072)\n",
      "                  S                    \n",
      "      ____________|____                 \n",
      "     |                 VP              \n",
      "     |        _________|___             \n",
      "     |       |             NP          \n",
      "     |       |     ________|____        \n",
      "     |       |    |             PP     \n",
      "     |       |    |         ____|___    \n",
      "     NP      V    NP       P        NP \n",
      "     |       |    |        |        |   \n",
      "astronomers saw stars     with     ears\n",
      "\n",
      "(S\n",
      "  (NP astronomers)\n",
      "  (VP (VP (V saw) (NP stars)) (PP (P with) (NP ears)))) (p=0.0006804)\n",
      "                      S                    \n",
      "      ________________|____                 \n",
      "     |                     VP              \n",
      "     |            _________|________        \n",
      "     |           VP                 PP     \n",
      "     |        ___|____          ____|___    \n",
      "     NP      V        NP       P        NP \n",
      "     |       |        |        |        |   \n",
      "astronomers saw     stars     with     ears\n",
      "\n"
     ]
    }
   ],
   "source": [
    "import nltk\n",
    "grammer = nltk.PCFG.fromstring(\"\"\"\n",
    "S -> NP VP [1.0]\n",
    "PP -> P NP [1.0]\n",
    "VP -> V NP [0.7] | VP PP [0.3]\n",
    "P -> 'with' [1.0]\n",
    "V -> 'saw' [1.0]\n",
    "NP -> NP PP [0.4] | 'astronomers' [0.1] | 'ears' [0.18] | 'saw' [0.04] | 'stars' [0.18] | 'telescopes' [0.1] \n",
    "\"\"\")\n",
    "rd_parser = nltk.InsideChartParser(grammer)\n",
    "for tree in rd_parser.parse(words):\n",
    "    print(tree)\n",
    "    tree.pretty_print()"
   ]
  },
  {
   "cell_type": "code",
   "execution_count": null,
   "id": "687033e4",
   "metadata": {},
   "outputs": [],
   "source": []
  }
 ],
 "metadata": {
  "kernelspec": {
   "display_name": "Python 3 (ipykernel)",
   "language": "python",
   "name": "python3"
  },
  "language_info": {
   "codemirror_mode": {
    "name": "ipython",
    "version": 3
   },
   "file_extension": ".py",
   "mimetype": "text/x-python",
   "name": "python",
   "nbconvert_exporter": "python",
   "pygments_lexer": "ipython3",
   "version": "3.11.5"
  }
 },
 "nbformat": 4,
 "nbformat_minor": 5
}
