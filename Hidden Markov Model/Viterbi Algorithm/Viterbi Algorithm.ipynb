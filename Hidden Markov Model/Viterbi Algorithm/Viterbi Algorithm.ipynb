{
 "cells": [
  {
   "cell_type": "code",
   "execution_count": 2,
   "id": "2f376b98",
   "metadata": {},
   "outputs": [],
   "source": [
    "transition_prob={'cp':{'cp':0.7,'ip':0.3},'ip':{'cp':0.5,'ip':0.5}}\n",
    "\n",
    "emission_prob={'cp':{'cola':0.6,'ice_t':0.1,'lem':0.3},'ip':{'cola':0.1,'ice_t':0.7,'lem':0.2}}\n",
    "\n",
    "output_seq=['lem','ice_t','cola']\n",
    "\n",
    "int_prob={'cp':1,'ip':0}\n",
    "states=['cp','ip']"
   ]
  },
  {
   "cell_type": "code",
   "execution_count": 9,
   "id": "ae16517c",
   "metadata": {},
   "outputs": [
    {
     "name": "stdout",
     "output_type": "stream",
     "text": [
      "output seq : ['cp', 'ip', 'cp', 'cp']\n",
      "delta: {'cp': [1, 0.21, 0.0315, 0.01323], 'ip': [0, 0.09, 0.0315, 0.00567]}\n",
      "chi: {'cp': ['cp', 'ip', 'cp'], 'ip': ['cp', 'ip', 'cp']}\n",
      "prob: 0.01323\n"
     ]
    }
   ],
   "source": [
    "def viterbi(transition_prob,emission_prob,output_seq,states):\n",
    "    delta={}\n",
    "    chi={}\n",
    "    for x in states:\n",
    "        delta[x]=[]\n",
    "        chi[x]=[]\n",
    "        delta[x].append(int_prob[x])\n",
    "    i=0\n",
    "    for each in output_seq:\n",
    "        for x in states:\n",
    "            temp=0\n",
    "            for y in states:\n",
    "                t = delta[y][i]*transition_prob[y][x]*emission_prob[y][each]\n",
    "                if(temp<t):\n",
    "                    key=y\n",
    "                temp = max(temp,t)\n",
    "            chi[x].append(key)     \n",
    "            delta[x].append(temp)      \n",
    "        i+=1\n",
    "        \n",
    "    prob = 0\n",
    "    s = \"\"\n",
    "    X = []\n",
    "    for x in states:\n",
    "        if(prob<delta[x][-1]):\n",
    "            prob = delta[x][-1]\n",
    "            s=x\n",
    "    for each in chi[states[0]]:\n",
    "        X.append(each)\n",
    "    X.append(s)\n",
    "    print(\"output seq :\",X)\n",
    "    print(\"delta:\",delta)\n",
    "    print(\"chi:\",chi)\n",
    "    print(\"prob:\",prob)\n",
    "    \n",
    "viterbi(transition_prob,emission_prob,output_seq,states)"
   ]
  },
  {
   "cell_type": "code",
   "execution_count": null,
   "id": "3e3c8e7f",
   "metadata": {},
   "outputs": [],
   "source": []
  }
 ],
 "metadata": {
  "kernelspec": {
   "display_name": "Python 3 (ipykernel)",
   "language": "python",
   "name": "python3"
  },
  "language_info": {
   "codemirror_mode": {
    "name": "ipython",
    "version": 3
   },
   "file_extension": ".py",
   "mimetype": "text/x-python",
   "name": "python",
   "nbconvert_exporter": "python",
   "pygments_lexer": "ipython3",
   "version": "3.11.5"
  }
 },
 "nbformat": 4,
 "nbformat_minor": 5
}
