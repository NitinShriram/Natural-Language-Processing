{
 "cells": [
  {
   "cell_type": "code",
   "execution_count": 1,
   "id": "f56bc529",
   "metadata": {},
   "outputs": [],
   "source": [
    "transition_prob={'cp':{'cp':0.7,'ip':0.3},'ip':{'cp':0.5,'ip':0.5}}\n",
    "\n",
    "emission_prob={'cp':{'cola':0.6,'ice_t':0.1,'lem':0.3},'ip':{'cola':0.1,'ice_t':0.7,'lem':0.2}}\n",
    "\n",
    "output_seq=['lem','ice_t','cola']\n",
    "\n",
    "int_prob={'cp':1,'ip':0}\n",
    "states=['cp','ip']"
   ]
  },
  {
   "cell_type": "code",
   "execution_count": 2,
   "id": "e2fc095f",
   "metadata": {},
   "outputs": [
    {
     "name": "stdout",
     "output_type": "stream",
     "text": [
      "{'cp': [1, 0.21, 0.0462, 0.021293999999999993], 'ip': [0, 0.09, 0.0378, 0.010206]}\n",
      "{'cp': [0.0315, 0.045000000000000005, 0.6, 1], 'ip': [0.029, 0.245, 0.1, 1]}\n",
      "{'cp': [1.0, 0.3, 0.8799999999999999, 0.6759999999999999], 'ip': [0.0, 0.7, 0.12000000000000001, 0.32400000000000007]}\n",
      "['cp', 'ip', 'cp', 'cp']\n"
     ]
    }
   ],
   "source": [
    "def trellis(transition_prob,emission_prob,output_seq,int_prob,states):\n",
    "    alpha = {}\n",
    "    beta = {}\n",
    "    gamma = {}\n",
    "    \n",
    "    for x in states:\n",
    "        alpha[x] = []\n",
    "        alpha[x].append(int_prob[x])\n",
    "        \n",
    "    i=0\n",
    "    for each in output_seq:\n",
    "        for x in states:\n",
    "            temp=0\n",
    "            for y in states:\n",
    "                temp += alpha[y][i]*transition_prob[y][x]*emission_prob[y][each]\n",
    "            alpha[x].append(temp)\n",
    "        i+=1\n",
    "    print(alpha)\n",
    "    prob=0\n",
    "    i=0\n",
    "    for x in states:\n",
    "        beta[x] = []\n",
    "        beta[x].append(1)\n",
    "    \n",
    "    r_o = output_seq[::-1]\n",
    "    for each in r_o:\n",
    "        for x in states:\n",
    "            temp = 0\n",
    "            for y in states:\n",
    "                temp+= beta[y][i]*transition_prob[x][y]*emission_prob[x][each]\n",
    "            beta[x].append(temp)\n",
    "        i+=1\n",
    "        \n",
    "    for x in states:\n",
    "        beta[x] = beta[x][::-1]\n",
    "    print(beta)\n",
    "    \n",
    "    for x in states:\n",
    "        gamma[x] = []\n",
    "    \n",
    "    for i in range(len(alpha[states[0]])):\n",
    "        den = 0\n",
    "        for m in states:\n",
    "            den+= alpha[m][i]*beta[m][i]\n",
    "        for x in states:\n",
    "            t = alpha[x][i]*beta[x][i]/den\n",
    "            gamma[x].append(t)\n",
    "    print(gamma)\n",
    "    \n",
    "    X=[]\n",
    "    \n",
    "    for i in range(len(gamma[states[0]])):\n",
    "        maxi = 0\n",
    "        s=\"\"\n",
    "        for x in states:\n",
    "            if maxi<gamma[x][i]:\n",
    "                maxi = gamma[x][i]\n",
    "                s=x\n",
    "        X.append(s)\n",
    "    print(X)\n",
    "    \n",
    "trellis(transition_prob,emission_prob,output_seq,int_prob,states)"
   ]
  },
  {
   "cell_type": "code",
   "execution_count": null,
   "id": "eb133313",
   "metadata": {},
   "outputs": [],
   "source": []
  }
 ],
 "metadata": {
  "kernelspec": {
   "display_name": "Python 3 (ipykernel)",
   "language": "python",
   "name": "python3"
  },
  "language_info": {
   "codemirror_mode": {
    "name": "ipython",
    "version": 3
   },
   "file_extension": ".py",
   "mimetype": "text/x-python",
   "name": "python",
   "nbconvert_exporter": "python",
   "pygments_lexer": "ipython3",
   "version": "3.11.5"
  }
 },
 "nbformat": 4,
 "nbformat_minor": 5
}
