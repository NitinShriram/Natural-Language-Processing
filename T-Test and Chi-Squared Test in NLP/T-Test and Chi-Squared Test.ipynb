{
 "cells": [
  {
   "cell_type": "code",
   "execution_count": 1,
   "id": "eacb0a19",
   "metadata": {},
   "outputs": [
    {
     "name": "stdout",
     "output_type": "stream",
     "text": [
      "The words to be checked for collocation:\n",
      "enter the word to be first:knocked\n",
      "enter the word to be next:door\n",
      "Total :  20\n",
      "Count of word 1 :  4\n",
      "Count of word 2 :  4\n",
      "Count of word 1 and 2 :  1\n",
      "0.2051956704170307\n",
      "Not collocated. Accept null hypothesis\n",
      "0.078125\n",
      "Not collocated. Accept null hypothesis\n"
     ]
    }
   ],
   "source": [
    "s1=\"she knocked the door\"\n",
    "s2=\"they knocked at the door\"\n",
    "s3=\"a man knocked on the metal front door\"\n",
    "s4=\"she knocked door\"\n",
    "print(\"The words to be checked for collocation:\")\n",
    "word1=input(\"enter the word to be first:\")\n",
    "word2=input(\"enter the word to be next:\")\n",
    "\n",
    "l1 = s1.split(\" \")\n",
    "l2 = s2.split(\" \")\n",
    "l3 = s3.split(\" \")\n",
    "l4 = s4.split(\" \")\n",
    "l = [l1,l2,l3,l4]\n",
    "tot = 0\n",
    "cw1 = 0\n",
    "cw2 =0 \n",
    "cw12 = 0\n",
    "\n",
    "for sent in l:\n",
    "    for word in sent:\n",
    "        tot= tot + 1\n",
    "        if word==word1:\n",
    "            cw1+=1\n",
    "            if sent[sent.index(word1)+1]==word2:\n",
    "                cw12+=1\n",
    "        if word==word2:\n",
    "            cw2+=1\n",
    "            \n",
    "print(\"Total : \",tot)\n",
    "print(\"Count of word 1 : \",cw1)\n",
    "print(\"Count of word 2 : \",cw2)\n",
    "print(\"Count of word 1 and 2 : \",cw12)\n",
    "\n",
    "obs = cw12/tot\n",
    "exp = (cw1/tot)*(cw2/tot)\n",
    "var = obs*(1-obs)\n",
    "num = obs-exp\n",
    "den = (var/tot)**0.5\n",
    "tval = num/den\n",
    " \n",
    "cv = 2.567\n",
    "print(tval)\n",
    "if tval>cv:\n",
    "    print(\"Collocated. Reject null hypothesis.\")\n",
    "else:\n",
    "    print(\"Not collocated. Accept null hypothesis\")\n",
    "    \n",
    "#chi-squared :\n",
    "\n",
    "a = cw12\n",
    "b = cw1 - a\n",
    "c = cw2 - a\n",
    "d = tot - cw1 - c\n",
    "\n",
    "rw1 = tot - cw1\n",
    "rw2 = tot - cw2\n",
    "e1 = (cw1*cw2)/tot\n",
    "e2 = (cw1*rw2)/tot\n",
    "e3 = (rw1*cw2)/tot\n",
    "e4 = (rw1*rw2)/tot\n",
    "\n",
    "chival = 0\n",
    "\n",
    "s1 = ((a-e1)**2)/e1\n",
    "s2 = ((b-e2)**2)/e2\n",
    "s3 = ((c-e3)**2)/e3\n",
    "s4 = ((d-e4)**2)/e4\n",
    "chival = s1+s2+s3+s4\n",
    "\n",
    "print(chival)\n",
    "if chival>cv:\n",
    "    print(\"Collocated. Reject null hypothesis.\")\n",
    "else:\n",
    "    print(\"Not collocated. Accept null hypothesis\")\n"
   ]
  },
  {
   "cell_type": "code",
   "execution_count": 2,
   "id": "0c85e66d",
   "metadata": {},
   "outputs": [
    {
     "name": "stdout",
     "output_type": "stream",
     "text": [
      "(S (NP Mary) (VP (V saw) (NP Bob)))\n",
      "      S         \n",
      "  ____|___       \n",
      " |        VP    \n",
      " |     ___|___   \n",
      " NP   V       NP\n",
      " |    |       |  \n",
      "Mary saw     Bob\n",
      "\n"
     ]
    }
   ],
   "source": [
    "import nltk\n",
    "grammar1 = nltk.CFG.fromstring(\"\"\"\n",
    "  S -> NP VP\n",
    "  VP -> V NP | V NP PP\n",
    "  PP -> P NP\n",
    "  V -> \"saw\" | \"ate\" | \"walked\"\n",
    "  NP -> \"John\" | \"Mary\" | \"Bob\" | Det N | Det N PP\n",
    "  Det -> \"a\" | \"an\" | \"the\" | \"my\"\n",
    "  N -> \"man\" | \"dog\" | \"cat\" | \"telescope\" | \"park\"\n",
    "  P -> \"in\" | \"on\" | \"by\" | \"with\"\n",
    "  \"\"\")\n",
    "sent = \"Mary saw Bob\".split()\n",
    "rd_parser = nltk.RecursiveDescentParser(grammar1)\n",
    "for tree in rd_parser.parse(sent):\n",
    "    print(tree)\n",
    "    tree.pretty_print()"
   ]
  },
  {
   "cell_type": "code",
   "execution_count": null,
   "id": "bac519b8",
   "metadata": {},
   "outputs": [],
   "source": []
  },
  {
   "cell_type": "code",
   "execution_count": null,
   "id": "47c36a16",
   "metadata": {},
   "outputs": [],
   "source": []
  }
 ],
 "metadata": {
  "kernelspec": {
   "display_name": "Python 3 (ipykernel)",
   "language": "python",
   "name": "python3"
  },
  "language_info": {
   "codemirror_mode": {
    "name": "ipython",
    "version": 3
   },
   "file_extension": ".py",
   "mimetype": "text/x-python",
   "name": "python",
   "nbconvert_exporter": "python",
   "pygments_lexer": "ipython3",
   "version": "3.11.5"
  }
 },
 "nbformat": 4,
 "nbformat_minor": 5
}
