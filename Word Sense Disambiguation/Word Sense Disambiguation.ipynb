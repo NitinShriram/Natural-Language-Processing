{
 "cells": [
  {
   "cell_type": "code",
   "execution_count": 1,
   "id": "d0bf33db",
   "metadata": {},
   "outputs": [],
   "source": [
    "train = {\n",
    "    \"f\" : [[\"fish\",\"smoked\",\"fish\"],\n",
    "           [\"fish\",\"line\"],\n",
    "           [\"fish\",\"haul\",\"smoked\"]\n",
    "          ],\n",
    "    \"g\" : [[\"guitar\",\"jazz\",\"line\"]]\n",
    "    \n",
    "}\n",
    "\n",
    "test = [\"line\",\"guitar\",\"jazz\",\"jazz\"]\n",
    "v = [\"fish\",\"smoked\",\"line\",\"haul\",\"guitar\",\"jazz\"]"
   ]
  },
  {
   "cell_type": "code",
   "execution_count": 10,
   "id": "8d457747",
   "metadata": {},
   "outputs": [],
   "source": [
    "def prob(c):\n",
    "    n1 = len(train[c])\n",
    "    n=0\n",
    "    for i in train.keys():\n",
    "        n+=len(train[i])\n",
    "    return n1/n"
   ]
  },
  {
   "cell_type": "code",
   "execution_count": 15,
   "id": "a6d66ab3",
   "metadata": {},
   "outputs": [],
   "source": [
    "def prob1(w,c):\n",
    "    wc = 0\n",
    "    V = len(v)\n",
    "    n = len(train[c])\n",
    "    for i in range(n):\n",
    "        if w in train[c][i]:\n",
    "            wc+=1\n",
    "    ans = (wc+1)/(n+V)\n",
    "    return ans"
   ]
  },
  {
   "cell_type": "code",
   "execution_count": 16,
   "id": "0378e928",
   "metadata": {},
   "outputs": [
    {
     "name": "stdout",
     "output_type": "stream",
     "text": [
      "{'f': 0.00022862368541380884, 'g': 0.0016659725114535606}\n"
     ]
    }
   ],
   "source": [
    "dic = {}\n",
    "for c in train.keys():\n",
    "    p = prob(c)\n",
    "    for w in test:\n",
    "        p=p*prob1(w,c)\n",
    "    dic[c] = p\n",
    "print(dic)"
   ]
  },
  {
   "cell_type": "code",
   "execution_count": 17,
   "id": "45bd8c5d",
   "metadata": {},
   "outputs": [
    {
     "name": "stdout",
     "output_type": "stream",
     "text": [
      "g\n"
     ]
    }
   ],
   "source": [
    "ma = 0\n",
    "s = \"\"\n",
    "for i in dic:\n",
    "    if ma<dic[i]:\n",
    "        ma = dic[i]\n",
    "        s = i\n",
    "print(s)"
   ]
  },
  {
   "cell_type": "code",
   "execution_count": null,
   "id": "eef9bfc7",
   "metadata": {},
   "outputs": [],
   "source": []
  }
 ],
 "metadata": {
  "kernelspec": {
   "display_name": "Python 3 (ipykernel)",
   "language": "python",
   "name": "python3"
  },
  "language_info": {
   "codemirror_mode": {
    "name": "ipython",
    "version": 3
   },
   "file_extension": ".py",
   "mimetype": "text/x-python",
   "name": "python",
   "nbconvert_exporter": "python",
   "pygments_lexer": "ipython3",
   "version": "3.11.5"
  }
 },
 "nbformat": 4,
 "nbformat_minor": 5
}
