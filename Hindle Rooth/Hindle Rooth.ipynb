{
 "cells": [
  {
   "cell_type": "code",
   "execution_count": 1,
   "id": "4037dc4d",
   "metadata": {},
   "outputs": [],
   "source": [
    "import math\n",
    "from nltk.tokenize import word_tokenize\n",
    "from nltk import bigrams"
   ]
  },
  {
   "cell_type": "code",
   "execution_count": 2,
   "id": "320eedf4",
   "metadata": {},
   "outputs": [
    {
     "data": {
      "text/plain": [
       "'in book\\nin book\\nin book\\nin book\\nin book\\nin book\\nin book\\nin book\\nin book\\nin book\\nin book\\nin rest\\nin rest\\nin rest\\nin rest\\nin rest\\nin rest\\nin rest\\nin rest\\nin rest\\nin rest\\nin rest\\nin rest\\nin rest\\nin rest\\nin rest\\nin rest\\nin rest\\nin rest\\nin rest\\nin rest\\nin ok\\nin ok\\nin ok\\nin ok\\nin ok\\nin ok\\nin ok\\nin ok\\nin ok\\nin ok\\nin not\\nin not\\nin not\\nin not\\nin not\\nin not\\nin not\\nin not\\nin not\\nin not\\nin not\\nbook are\\nbook are\\nbook are\\nbook are\\nbook are\\nbook are\\nrest is \\nrest is \\nrest is \\nrest is \\nrest is \\nrest is\\n'"
      ]
     },
     "execution_count": 2,
     "metadata": {},
     "output_type": "execute_result"
    }
   ],
   "source": [
    "with open('book.txt') as file:\n",
    "    corp = file.read()\n",
    "corp"
   ]
  },
  {
   "cell_type": "code",
   "execution_count": 3,
   "id": "c8067c09",
   "metadata": {},
   "outputs": [],
   "source": [
    "tokens = word_tokenize(corp.lower())"
   ]
  },
  {
   "cell_type": "code",
   "execution_count": 4,
   "id": "91086340",
   "metadata": {},
   "outputs": [
    {
     "data": {
      "text/plain": [
       "{'in': 52, 'book': 17, 'rest': 26, 'ok': 10, 'not': 11, 'are': 6, 'is': 6}"
      ]
     },
     "execution_count": 4,
     "metadata": {},
     "output_type": "execute_result"
    }
   ],
   "source": [
    "word_count = {}\n",
    "for word in tokens:\n",
    "    word_count[word] = word_count.get(word,0) + 1\n",
    "word_count"
   ]
  },
  {
   "cell_type": "code",
   "execution_count": 5,
   "id": "eac07f29",
   "metadata": {},
   "outputs": [],
   "source": [
    "bi_grams = list(bigrams(tokens))"
   ]
  },
  {
   "cell_type": "code",
   "execution_count": 6,
   "id": "2aa81135",
   "metadata": {},
   "outputs": [
    {
     "data": {
      "text/plain": [
       "{('in', 'book'): 11,\n",
       " ('book', 'in'): 11,\n",
       " ('in', 'rest'): 20,\n",
       " ('rest', 'in'): 20,\n",
       " ('in', 'ok'): 10,\n",
       " ('ok', 'in'): 10,\n",
       " ('in', 'not'): 11,\n",
       " ('not', 'in'): 10,\n",
       " ('not', 'book'): 1,\n",
       " ('book', 'are'): 6,\n",
       " ('are', 'book'): 5,\n",
       " ('are', 'rest'): 1,\n",
       " ('rest', 'is'): 6,\n",
       " ('is', 'rest'): 5}"
      ]
     },
     "execution_count": 6,
     "metadata": {},
     "output_type": "execute_result"
    }
   ],
   "source": [
    "b_count = {}\n",
    "for each in bi_grams:\n",
    "    b_count[each] = b_count.get(each,0) + 1\n",
    "b_count"
   ]
  },
  {
   "cell_type": "code",
   "execution_count": 7,
   "id": "95c77513",
   "metadata": {},
   "outputs": [
    {
     "name": "stdout",
     "output_type": "stream",
     "text": [
      "Enter the noun : book\n",
      "Enter the verb : rest\n",
      "Enter the preposition : in\n"
     ]
    }
   ],
   "source": [
    "noun = input(\"Enter the noun : \")\n",
    "verb = input(\"Enter the verb : \")\n",
    "prep = input(\"Enter the preposition : \")"
   ]
  },
  {
   "cell_type": "code",
   "execution_count": 8,
   "id": "211d8d56",
   "metadata": {},
   "outputs": [
    {
     "name": "stdout",
     "output_type": "stream",
     "text": [
      "0.6470588235294118\n",
      "0.7692307692307693\n",
      "0.3529411764705882\n",
      "With noun\n"
     ]
    }
   ],
   "source": [
    "import numpy as np\n",
    "p_n = b_count[(prep,noun)]/word_count[noun] if word_count[noun]>0 else 0\n",
    "p_v = b_count[(prep,verb)]/word_count[verb] if word_count[verb]>0 else 0\n",
    "p_nn = 1 - p_n\n",
    "print(p_n)\n",
    "print(p_v)\n",
    "print(p_nn)\n",
    "lam = np.log2((p_nn*p_v)/p_n)\n",
    "if lam>0:\n",
    "    print(\"With verb\")\n",
    "else:\n",
    "    print(\"With noun\")"
   ]
  },
  {
   "cell_type": "code",
   "execution_count": null,
   "id": "e9d1cd9a",
   "metadata": {},
   "outputs": [],
   "source": []
  }
 ],
 "metadata": {
  "kernelspec": {
   "display_name": "Python 3 (ipykernel)",
   "language": "python",
   "name": "python3"
  },
  "language_info": {
   "codemirror_mode": {
    "name": "ipython",
    "version": 3
   },
   "file_extension": ".py",
   "mimetype": "text/x-python",
   "name": "python",
   "nbconvert_exporter": "python",
   "pygments_lexer": "ipython3",
   "version": "3.11.5"
  }
 },
 "nbformat": 4,
 "nbformat_minor": 5
}
